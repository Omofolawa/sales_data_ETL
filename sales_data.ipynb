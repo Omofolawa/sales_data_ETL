{
 "cells": [
  {
   "cell_type": "code",
   "execution_count": 10,
   "id": "60c97433-ce97-4a66-9c86-7cf30d4ea3ff",
   "metadata": {},
   "outputs": [],
   "source": [
    "# INstaling necessary libraries for the data creation operation\n",
    "import csv\n",
    "import random\n",
    "import pandas as pd\n",
    "from faker import Faker\n",
    "from datetime import datetime, timedelta"
   ]
  },
  {
   "cell_type": "code",
   "execution_count": 4,
   "id": "67f952ba-1b65-4e01-8c7f-f50ebaded323",
   "metadata": {},
   "outputs": [],
   "source": [
    "# Initialize Faker and random seed\n",
    "fake = Faker()\n",
    "random.seed(42)"
   ]
  },
  {
   "cell_type": "code",
   "execution_count": 5,
   "id": "c405c134-4770-448e-8822-f7a5d01d23a3",
   "metadata": {},
   "outputs": [],
   "source": [
    "# Function to generate random date within a range\n",
    "def random_date(start, end):\n",
    "    return start + timedelta(days=random.randint(0, (end - start).days))\n"
   ]
  },
  {
   "cell_type": "code",
   "execution_count": 6,
   "id": "2248e36f-6021-4a69-9dda-7f06ddbb6d36",
   "metadata": {},
   "outputs": [],
   "source": [
    "# Number of rows\n",
    "num_rows = 1000"
   ]
  },
  {
   "cell_type": "code",
   "execution_count": 7,
   "id": "35dfc359-d414-4bfa-af69-0bf1fec114b3",
   "metadata": {},
   "outputs": [],
   "source": [
    "# Product and Region choices\n",
    "products = ['Laptop', 'Smartphone', 'Tablet', 'Monitor', 'Keyboard', 'Mouse', 'Headphones']\n",
    "regions = ['North America', 'Europe', 'Asia', 'South America', 'Australia', 'Africa']"
   ]
  },
  {
   "cell_type": "code",
   "execution_count": 8,
   "id": "cdc51ec0-d668-43fd-aa13-d0679e187c3a",
   "metadata": {},
   "outputs": [],
   "source": [
    "# Set date range for sales\n",
    "start_date = datetime(2019, 1, 1)\n",
    "end_date = datetime(2023, 12, 31)"
   ]
  },
  {
   "cell_type": "code",
   "execution_count": 11,
   "id": "d73b2c92-f0bb-458c-898b-77c62fbc5ebe",
   "metadata": {},
   "outputs": [
    {
     "name": "stdout",
     "output_type": "stream",
     "text": [
      "   SaleID  CustomerID  ProductID  Quantity    Price             SaleDate  \\\n",
      "0       1        4396        410        10  1998.02  2021-04-27 00:00:00   \n",
      "1       2        6728        287         4    72.03  2020-02-17 00:00:00   \n",
      "2       3        5168        405         2   650.16  2021-11-03 00:00:00   \n",
      "3       4        1100         59         6   715.66  2023-01-23 00:00:00   \n",
      "4       5        1477        427         3   428.33  2023-09-04 00:00:00   \n",
      "\n",
      "     CustomerName ProductName     Region         SalesRep  \n",
      "0  Tiffany Harvey      Laptop       Asia      Lynn Franco  \n",
      "1     Kelly Davis       Mouse       Asia    Martin Thomas  \n",
      "2        Lori Orr    Keyboard       Asia    Teresa Mosley  \n",
      "3    Megan Castro    Keyboard  Australia    Amy Gutierrez  \n",
      "4    Kevin Landry      Tablet     Africa  Nicholas Miller  \n",
      "Data generated and saved as CSV successfully\n"
     ]
    }
   ],
   "source": [
    "# Open CSV file to write data\n",
    "with open('sales_data.csv', mode='w', newline='') as file:\n",
    "    writer = csv.writer(file)\n",
    "    \n",
    "    # Write header\n",
    "    writer.writerow(['SaleID', 'CustomerID', 'ProductID', 'Quantity', 'Price', 'SaleDate', 'CustomerName', 'ProductName', 'Region', 'SalesRep'])\n",
    "\n",
    "    for i in range(num_rows):\n",
    "        sale_id = i + 1\n",
    "        customer_id = random.randint(1000, 9999)\n",
    "        product_id = random.randint(1, 500)\n",
    "        quantity = random.randint(1, 10)\n",
    "        price = round(random.uniform(50.0, 2000.0), 2)  # Price range between £50 to £2000\n",
    "        sale_date = random_date(start_date, end_date)\n",
    "        customer_name = fake.name()\n",
    "        product_name = random.choice(products)\n",
    "        region = random.choice(regions)\n",
    "        sales_rep = fake.name()\n",
    "\n",
    "        # Write data rows to CSV\n",
    "        writer.writerow([sale_id, customer_id, product_id, quantity, price, sale_date, customer_name, product_name, region, sales_rep])\n",
    "\n",
    "# Load data into a Pandas DataFrame to preview the result\n",
    "df = pd.read_csv('sales_data.csv')\n",
    "print(df.head())\n",
    "print(\"Data generated and saved as CSV successfully\")"
   ]
  },
  {
   "cell_type": "code",
   "execution_count": null,
   "id": "12d7bc46-f824-4fb1-bc06-9197b79041a5",
   "metadata": {},
   "outputs": [],
   "source": []
  }
 ],
 "metadata": {
  "kernelspec": {
   "display_name": "Python 3 (ipykernel)",
   "language": "python",
   "name": "python3"
  },
  "language_info": {
   "codemirror_mode": {
    "name": "ipython",
    "version": 3
   },
   "file_extension": ".py",
   "mimetype": "text/x-python",
   "name": "python",
   "nbconvert_exporter": "python",
   "pygments_lexer": "ipython3",
   "version": "3.11.9"
  }
 },
 "nbformat": 4,
 "nbformat_minor": 5
}
